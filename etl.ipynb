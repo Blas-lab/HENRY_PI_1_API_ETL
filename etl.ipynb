{
 "cells": [
  {
   "cell_type": "code",
   "execution_count": 1,
   "metadata": {},
   "outputs": [],
   "source": [
    "import pandas as pd"
   ]
  },
  {
   "attachments": {},
   "cell_type": "markdown",
   "metadata": {},
   "source": [
    "# Load the dataset files into separate dataframes"
   ]
  },
  {
   "cell_type": "code",
   "execution_count": 2,
   "metadata": {},
   "outputs": [],
   "source": [
    "amazon_data = pd.read_csv(\"./Datasets/amazon_prime_titles-score.csv\")\n",
    "disney_data = pd.read_csv(\"./Datasets/disney_plus_titles-score.csv\")\n",
    "hulu_data = pd.read_csv(\"./Datasets/hulu_titles-score (2).csv\")\n",
    "netflix_data = pd.read_csv(\"./Datasets/netflix_titles-score.csv\")"
   ]
  },
  {
   "attachments": {},
   "cell_type": "markdown",
   "metadata": {},
   "source": [
    "# Add platform column to each dataframe and set the value to the corresponding platform name"
   ]
  },
  {
   "cell_type": "code",
   "execution_count": 3,
   "metadata": {},
   "outputs": [],
   "source": [
    "amazon_data['platform'] = 'amazon_prime'\n",
    "disney_data['platform'] = 'disney_plus'\n",
    "hulu_data['platform'] = 'hulu'\n",
    "netflix_data['platform'] = 'netflix'"
   ]
  },
  {
   "attachments": {},
   "cell_type": "markdown",
   "metadata": {},
   "source": [
    "# Display the first few rows of each dataframe to check if the column was added correctly"
   ]
  },
  {
   "cell_type": "code",
   "execution_count": 4,
   "metadata": {},
   "outputs": [
    {
     "name": "stdout",
     "output_type": "stream",
     "text": [
      "  show_id   type                 title        director  \\\n",
      "0      s1  Movie   The Grand Seduction    Don McKellar   \n",
      "1      s2  Movie  Take Care Good Night    Girish Joshi   \n",
      "2      s3  Movie  Secrets of Deception     Josh Webber   \n",
      "3      s4  Movie    Pink: Staying True  Sonia Anderson   \n",
      "4      s5  Movie         Monster Maker    Giles Foster   \n",
      "\n",
      "                                                cast         country  \\\n",
      "0     Brendan Gleeson, Taylor Kitsch, Gordon Pinsent          Canada   \n",
      "1   Mahesh Manjrekar, Abhay Mahajan, Sachin Khedekar           India   \n",
      "2  Tom Sizemore, Lorenzo Lamas, Robert LaSardo, R...   United States   \n",
      "3  Interviews with: Pink, Adele, Beyoncé, Britney...   United States   \n",
      "4  Harry Dean Stanton, Kieran O'Brien, George Cos...  United Kingdom   \n",
      "\n",
      "       date_added  release_year rating duration                listed_in  \\\n",
      "0  March 30, 2021          2014    NaN  113 min            Comedy, Drama   \n",
      "1  March 30, 2021          2018    13+  110 min     Drama, International   \n",
      "2  March 30, 2021          2017    NaN   74 min  Action, Drama, Suspense   \n",
      "3  March 30, 2021          2014    NaN   69 min              Documentary   \n",
      "4  March 30, 2021          1989    NaN   45 min           Drama, Fantasy   \n",
      "\n",
      "                                         description  score      platform  \n",
      "0  A small fishing village must procure a local d...     99  amazon_prime  \n",
      "1  A Metro Family decides to fight a Cyber Crimin...     37  amazon_prime  \n",
      "2  After a man discovers his wife is cheating on ...     20  amazon_prime  \n",
      "3  Pink breaks the mold once again, bringing her ...     27  amazon_prime  \n",
      "4  Teenage Matt Banting wants to work with a famo...     75  amazon_prime  \n",
      "  show_id     type                                             title  \\\n",
      "0      s1    Movie  Duck the Halls: A Mickey Mouse Christmas Special   \n",
      "1      s2    Movie                            Ernest Saves Christmas   \n",
      "2      s3    Movie                      Ice Age: A Mammoth Christmas   \n",
      "3      s4    Movie                        The Queen Family Singalong   \n",
      "4      s5  TV Show                             The Beatles: Get Back   \n",
      "\n",
      "                            director  \\\n",
      "0  Alonso Ramirez Ramos, Dave Wasson   \n",
      "1                        John Cherry   \n",
      "2                       Karen Disher   \n",
      "3                    Hamish Hamilton   \n",
      "4                                NaN   \n",
      "\n",
      "                                                cast        country  \\\n",
      "0  Chris Diamantopoulos, Tony Anselmo, Tress MacN...            NaN   \n",
      "1           Jim Varney, Noelle Parker, Douglas Seale            NaN   \n",
      "2  Raymond Albert Romano, John Leguizamo, Denis L...  United States   \n",
      "3  Darren Criss, Adam Lambert, Derek Hough, Alexa...            NaN   \n",
      "4  John Lennon, Paul McCartney, George Harrison, ...            NaN   \n",
      "\n",
      "          date_added  release_year rating  duration  \\\n",
      "0  November 26, 2021          2016   TV-G    23 min   \n",
      "1  November 26, 2021          1988     PG    91 min   \n",
      "2  November 26, 2021          2011   TV-G    23 min   \n",
      "3  November 26, 2021          2021  TV-PG    41 min   \n",
      "4  November 25, 2021          2021    NaN  1 Season   \n",
      "\n",
      "                       listed_in  \\\n",
      "0              Animation, Family   \n",
      "1                         Comedy   \n",
      "2      Animation, Comedy, Family   \n",
      "3                        Musical   \n",
      "4  Docuseries, Historical, Music   \n",
      "\n",
      "                                         description  score     platform  \n",
      "0   Join Mickey and the gang as they duck the halls!    100  disney_plus  \n",
      "1  Santa Claus passes his magic bag to a new St. ...     17  disney_plus  \n",
      "2          Sid the Sloth is on Santa's naughty list.     92  disney_plus  \n",
      "3               This is real life, not just fantasy!     35  disney_plus  \n",
      "4  A three-part documentary from Peter Jackson ca...     11  disney_plus  \n",
      "  show_id   type                           title director  cast country  \\\n",
      "0      s1  Movie  Ricky Velez: Here's Everything      NaN   NaN     NaN   \n",
      "1      s2  Movie                    Silent Night      NaN   NaN     NaN   \n",
      "2      s3  Movie                    The Marksman      NaN   NaN     NaN   \n",
      "3      s4  Movie                            Gaia      NaN   NaN     NaN   \n",
      "4      s5  Movie                        Settlers      NaN   NaN     NaN   \n",
      "\n",
      "         date_added  release_year rating duration                  listed_in  \\\n",
      "0  October 24, 2021          2021  TV-MA      NaN           Comedy, Stand Up   \n",
      "1  October 23, 2021          2020    NaN   94 min     Crime, Drama, Thriller   \n",
      "2  October 23, 2021          2021  PG-13  108 min           Action, Thriller   \n",
      "3  October 22, 2021          2021      R   97 min                     Horror   \n",
      "4  October 22, 2021          2021    NaN  104 min  Science Fiction, Thriller   \n",
      "\n",
      "                                         description  score platform  \n",
      "0  ​Comedian Ricky Velez bares it all with his ho...     48     hulu  \n",
      "1  Mark, a low end South London hitman recently r...      8     hulu  \n",
      "2  A hardened Arizona rancher tries to protect an...      8     hulu  \n",
      "3  A forest ranger and two survivalists with a cu...     33     hulu  \n",
      "4  Mankind's earliest settlers on the Martian fro...     24     hulu  \n",
      "  show_id     type                  title         director  \\\n",
      "0      s1    Movie   Dick Johnson Is Dead  Kirsten Johnson   \n",
      "1      s2  TV Show          Blood & Water              NaN   \n",
      "2      s3  TV Show              Ganglands  Julien Leclercq   \n",
      "3      s4  TV Show  Jailbirds New Orleans              NaN   \n",
      "4      s5  TV Show           Kota Factory              NaN   \n",
      "\n",
      "                                                cast        country  \\\n",
      "0                                                NaN  United States   \n",
      "1  Ama Qamata, Khosi Ngema, Gail Mabalane, Thaban...   South Africa   \n",
      "2  Sami Bouajila, Tracy Gotoas, Samuel Jouy, Nabi...            NaN   \n",
      "3                                                NaN            NaN   \n",
      "4  Mayur More, Jitendra Kumar, Ranjan Raj, Alam K...          India   \n",
      "\n",
      "           date_added  release_year rating   duration  \\\n",
      "0  September 25, 2021          2020  PG-13     90 min   \n",
      "1  September 24, 2021          2021  TV-MA  2 Seasons   \n",
      "2  September 24, 2021          2021  TV-MA   1 Season   \n",
      "3  September 24, 2021          2021  TV-MA   1 Season   \n",
      "4  September 24, 2021          2021  TV-MA  2 Seasons   \n",
      "\n",
      "                                           listed_in  \\\n",
      "0                                      Documentaries   \n",
      "1    International TV Shows, TV Dramas, TV Mysteries   \n",
      "2  Crime TV Shows, International TV Shows, TV Act...   \n",
      "3                             Docuseries, Reality TV   \n",
      "4  International TV Shows, Romantic TV Shows, TV ...   \n",
      "\n",
      "                                         description  score platform  \n",
      "0  As her father nears the end of his life, filmm...     29  netflix  \n",
      "1  After crossing paths at a party, a Cape Town t...     86  netflix  \n",
      "2  To protect his family from a powerful drug lor...     75  netflix  \n",
      "3  Feuds, flirtations and toilet talk go down amo...     49  netflix  \n",
      "4  In a city of coaching centers known to train I...     92  netflix  \n"
     ]
    }
   ],
   "source": [
    "print(amazon_data.head())\n",
    "print(disney_data.head())\n",
    "print(hulu_data.head())\n",
    "print(netflix_data.head())"
   ]
  },
  {
   "attachments": {},
   "cell_type": "markdown",
   "metadata": {},
   "source": [
    "# Concatenate the dataframes into one"
   ]
  },
  {
   "cell_type": "code",
   "execution_count": 5,
   "metadata": {},
   "outputs": [],
   "source": [
    "data = pd.concat([amazon_data, disney_data, hulu_data, netflix_data])"
   ]
  },
  {
   "attachments": {},
   "cell_type": "markdown",
   "metadata": {},
   "source": [
    "# Display the first few rows of the concatenated dataframe"
   ]
  },
  {
   "cell_type": "code",
   "execution_count": 6,
   "metadata": {},
   "outputs": [
    {
     "name": "stdout",
     "output_type": "stream",
     "text": [
      "  show_id   type                 title        director  \\\n",
      "0      s1  Movie   The Grand Seduction    Don McKellar   \n",
      "1      s2  Movie  Take Care Good Night    Girish Joshi   \n",
      "2      s3  Movie  Secrets of Deception     Josh Webber   \n",
      "3      s4  Movie    Pink: Staying True  Sonia Anderson   \n",
      "4      s5  Movie         Monster Maker    Giles Foster   \n",
      "\n",
      "                                                cast         country  \\\n",
      "0     Brendan Gleeson, Taylor Kitsch, Gordon Pinsent          Canada   \n",
      "1   Mahesh Manjrekar, Abhay Mahajan, Sachin Khedekar           India   \n",
      "2  Tom Sizemore, Lorenzo Lamas, Robert LaSardo, R...   United States   \n",
      "3  Interviews with: Pink, Adele, Beyoncé, Britney...   United States   \n",
      "4  Harry Dean Stanton, Kieran O'Brien, George Cos...  United Kingdom   \n",
      "\n",
      "       date_added  release_year rating duration                listed_in  \\\n",
      "0  March 30, 2021          2014    NaN  113 min            Comedy, Drama   \n",
      "1  March 30, 2021          2018    13+  110 min     Drama, International   \n",
      "2  March 30, 2021          2017    NaN   74 min  Action, Drama, Suspense   \n",
      "3  March 30, 2021          2014    NaN   69 min              Documentary   \n",
      "4  March 30, 2021          1989    NaN   45 min           Drama, Fantasy   \n",
      "\n",
      "                                         description  score      platform  \n",
      "0  A small fishing village must procure a local d...     99  amazon_prime  \n",
      "1  A Metro Family decides to fight a Cyber Crimin...     37  amazon_prime  \n",
      "2  After a man discovers his wife is cheating on ...     20  amazon_prime  \n",
      "3  Pink breaks the mold once again, bringing her ...     27  amazon_prime  \n",
      "4  Teenage Matt Banting wants to work with a famo...     75  amazon_prime  \n"
     ]
    }
   ],
   "source": [
    "print(data.head())"
   ]
  },
  {
   "attachments": {},
   "cell_type": "markdown",
   "metadata": {},
   "source": [
    "# Concatenate the dataframes into one"
   ]
  },
  {
   "cell_type": "code",
   "execution_count": 7,
   "metadata": {},
   "outputs": [],
   "source": [
    "data = pd.concat([amazon_data, disney_data, hulu_data, netflix_data])"
   ]
  },
  {
   "attachments": {},
   "cell_type": "markdown",
   "metadata": {},
   "source": [
    "# Display the first few rows"
   ]
  },
  {
   "cell_type": "code",
   "execution_count": 8,
   "metadata": {},
   "outputs": [
    {
     "name": "stdout",
     "output_type": "stream",
     "text": [
      "  show_id   type                 title        director  \\\n",
      "0      s1  Movie   The Grand Seduction    Don McKellar   \n",
      "1      s2  Movie  Take Care Good Night    Girish Joshi   \n",
      "2      s3  Movie  Secrets of Deception     Josh Webber   \n",
      "3      s4  Movie    Pink: Staying True  Sonia Anderson   \n",
      "4      s5  Movie         Monster Maker    Giles Foster   \n",
      "\n",
      "                                                cast         country  \\\n",
      "0     Brendan Gleeson, Taylor Kitsch, Gordon Pinsent          Canada   \n",
      "1   Mahesh Manjrekar, Abhay Mahajan, Sachin Khedekar           India   \n",
      "2  Tom Sizemore, Lorenzo Lamas, Robert LaSardo, R...   United States   \n",
      "3  Interviews with: Pink, Adele, Beyoncé, Britney...   United States   \n",
      "4  Harry Dean Stanton, Kieran O'Brien, George Cos...  United Kingdom   \n",
      "\n",
      "       date_added  release_year rating duration                listed_in  \\\n",
      "0  March 30, 2021          2014    NaN  113 min            Comedy, Drama   \n",
      "1  March 30, 2021          2018    13+  110 min     Drama, International   \n",
      "2  March 30, 2021          2017    NaN   74 min  Action, Drama, Suspense   \n",
      "3  March 30, 2021          2014    NaN   69 min              Documentary   \n",
      "4  March 30, 2021          1989    NaN   45 min           Drama, Fantasy   \n",
      "\n",
      "                                         description  score      platform  \n",
      "0  A small fishing village must procure a local d...     99  amazon_prime  \n",
      "1  A Metro Family decides to fight a Cyber Crimin...     37  amazon_prime  \n",
      "2  After a man discovers his wife is cheating on ...     20  amazon_prime  \n",
      "3  Pink breaks the mold once again, bringing her ...     27  amazon_prime  \n",
      "4  Teenage Matt Banting wants to work with a famo...     75  amazon_prime  \n"
     ]
    }
   ],
   "source": [
    "print(data.head())"
   ]
  },
  {
   "attachments": {},
   "cell_type": "markdown",
   "metadata": {},
   "source": [
    "# Create id column"
   ]
  },
  {
   "cell_type": "code",
   "execution_count": 9,
   "metadata": {},
   "outputs": [],
   "source": [
    "data['id'] = data['show_id'].apply(lambda x: 'as' + x)"
   ]
  },
  {
   "attachments": {},
   "cell_type": "markdown",
   "metadata": {},
   "source": [
    "# Normalize the value of duration column to singular"
   ]
  },
  {
   "cell_type": "code",
   "execution_count": 10,
   "metadata": {},
   "outputs": [],
   "source": [
    "data['duration'] = data['duration'].str.rstrip('s')"
   ]
  },
  {
   "attachments": {},
   "cell_type": "markdown",
   "metadata": {},
   "source": [
    "# Create duration_int and duration_type columns"
   ]
  },
  {
   "cell_type": "code",
   "execution_count": 11,
   "metadata": {},
   "outputs": [],
   "source": [
    "data.dropna(subset=['duration'], inplace=True)\n",
    "data['duration_int'] = data['duration'].apply(lambda x: int(x.split()[0]))\n",
    "data['duration_type'] = data['duration'].apply(lambda x: x.split()[1])"
   ]
  },
  {
   "attachments": {},
   "cell_type": "markdown",
   "metadata": {},
   "source": [
    "# Create season colum containing duration_int value if duration_type column is = to tv show"
   ]
  },
  {
   "cell_type": "code",
   "execution_count": 12,
   "metadata": {},
   "outputs": [],
   "source": [
    "data['season'] = data.apply(lambda x: x['duration_int'] if x['duration_type'] == 'tv show' else None, axis=1)"
   ]
  },
  {
   "attachments": {},
   "cell_type": "markdown",
   "metadata": {},
   "source": [
    "# Replace null values in rating column with \"G\""
   ]
  },
  {
   "cell_type": "code",
   "execution_count": 13,
   "metadata": {},
   "outputs": [],
   "source": [
    "data['rating'].fillna(\"G\", inplace=True)"
   ]
  },
  {
   "attachments": {},
   "cell_type": "markdown",
   "metadata": {},
   "source": [
    "# Convert date_added to \"yyyy-mm-dd\" format"
   ]
  },
  {
   "cell_type": "code",
   "execution_count": 14,
   "metadata": {},
   "outputs": [],
   "source": [
    "data['date_added'] = data['date_added'].str.strip()\n",
    "data['date_added'] =  pd.to_datetime(data['date_added'], format='%B %d, %Y').dt.strftime('%Y-%m-%d')"
   ]
  },
  {
   "attachments": {},
   "cell_type": "markdown",
   "metadata": {},
   "source": [
    "# Display first few rows"
   ]
  },
  {
   "cell_type": "code",
   "execution_count": 15,
   "metadata": {},
   "outputs": [
    {
     "name": "stdout",
     "output_type": "stream",
     "text": [
      "  show_id   type                 title        director  \\\n",
      "0      s1  Movie   The Grand Seduction    Don McKellar   \n",
      "1      s2  Movie  Take Care Good Night    Girish Joshi   \n",
      "2      s3  Movie  Secrets of Deception     Josh Webber   \n",
      "3      s4  Movie    Pink: Staying True  Sonia Anderson   \n",
      "4      s5  Movie         Monster Maker    Giles Foster   \n",
      "\n",
      "                                                cast         country  \\\n",
      "0     Brendan Gleeson, Taylor Kitsch, Gordon Pinsent          Canada   \n",
      "1   Mahesh Manjrekar, Abhay Mahajan, Sachin Khedekar           India   \n",
      "2  Tom Sizemore, Lorenzo Lamas, Robert LaSardo, R...   United States   \n",
      "3  Interviews with: Pink, Adele, Beyoncé, Britney...   United States   \n",
      "4  Harry Dean Stanton, Kieran O'Brien, George Cos...  United Kingdom   \n",
      "\n",
      "   date_added  release_year rating duration                listed_in  \\\n",
      "0  2021-03-30          2014      G  113 min            Comedy, Drama   \n",
      "1  2021-03-30          2018    13+  110 min     Drama, International   \n",
      "2  2021-03-30          2017      G   74 min  Action, Drama, Suspense   \n",
      "3  2021-03-30          2014      G   69 min              Documentary   \n",
      "4  2021-03-30          1989      G   45 min           Drama, Fantasy   \n",
      "\n",
      "                                         description  score      platform  \\\n",
      "0  A small fishing village must procure a local d...     99  amazon_prime   \n",
      "1  A Metro Family decides to fight a Cyber Crimin...     37  amazon_prime   \n",
      "2  After a man discovers his wife is cheating on ...     20  amazon_prime   \n",
      "3  Pink breaks the mold once again, bringing her ...     27  amazon_prime   \n",
      "4  Teenage Matt Banting wants to work with a famo...     75  amazon_prime   \n",
      "\n",
      "     id  duration_int duration_type season  \n",
      "0  ass1           113           min   None  \n",
      "1  ass2           110           min   None  \n",
      "2  ass3            74           min   None  \n",
      "3  ass4            69           min   None  \n",
      "4  ass5            45           min   None  \n"
     ]
    }
   ],
   "source": [
    "print(data.head())"
   ]
  },
  {
   "attachments": {},
   "cell_type": "markdown",
   "metadata": {},
   "source": [
    "# Normalize the values of the text columns"
   ]
  },
  {
   "cell_type": "code",
   "execution_count": 16,
   "metadata": {},
   "outputs": [],
   "source": [
    "data['type'] = data['type'].str.lower()\n",
    "data['title'] = data['title'].str.lower()\n",
    "data['director'] = data['director'].str.lower()\n",
    "data['cast'] = data['cast'].str.lower()\n",
    "data['country'] = data['country'].str.lower()\n",
    "data['listed_in'] = data['listed_in'].str.lower()\n",
    "data['description'] = data['description'].str.lower()"
   ]
  },
  {
   "attachments": {},
   "cell_type": "markdown",
   "metadata": {},
   "source": [
    "# Colum printing for check"
   ]
  },
  {
   "cell_type": "code",
   "execution_count": 17,
   "metadata": {},
   "outputs": [
    {
     "name": "stdout",
     "output_type": "stream",
     "text": [
      "Index(['show_id', 'type', 'title', 'director', 'cast', 'country', 'date_added',\n",
      "       'release_year', 'rating', 'duration', 'listed_in', 'description',\n",
      "       'score', 'platform', 'id', 'duration_int', 'duration_type', 'season'],\n",
      "      dtype='object')\n"
     ]
    }
   ],
   "source": [
    "print(data.columns)"
   ]
  },
  {
   "attachments": {},
   "cell_type": "markdown",
   "metadata": {},
   "source": [
    "# Checking for the colum season"
   ]
  },
  {
   "cell_type": "code",
   "execution_count": 18,
   "metadata": {},
   "outputs": [],
   "source": [
    "if 'season' in data.columns:\n",
    "    grouped_data = data.groupby(['title', 'season'], as_index=False).mean(numeric_only=True)\n",
    "else:\n",
    "    print(\"The 'season' column does not exist in the dataframe.\")\n"
   ]
  },
  {
   "attachments": {},
   "cell_type": "markdown",
   "metadata": {},
   "source": [
    "# Convert the 'duration_int' and 'score' columns to integer data type, to prevent the issue of compatibility with JSON serializable"
   ]
  },
  {
   "cell_type": "code",
   "execution_count": 19,
   "metadata": {},
   "outputs": [],
   "source": [
    "data['duration_int'] = data['duration_int'].astype(int)\n",
    "data['score'] = data['score'].astype(int)"
   ]
  },
  {
   "attachments": {},
   "cell_type": "markdown",
   "metadata": {},
   "source": [
    "# Create the dataframe"
   ]
  },
  {
   "cell_type": "code",
   "execution_count": 20,
   "metadata": {},
   "outputs": [],
   "source": [
    "data_df = pd.DataFrame(data)"
   ]
  },
  {
   "attachments": {},
   "cell_type": "markdown",
   "metadata": {},
   "source": [
    "# Print the dataframe"
   ]
  },
  {
   "cell_type": "code",
   "execution_count": 21,
   "metadata": {},
   "outputs": [
    {
     "name": "stdout",
     "output_type": "stream",
     "text": [
      "     show_id     type                 title         director  \\\n",
      "0         s1    movie   the grand seduction     don mckellar   \n",
      "1         s2    movie  take care good night     girish joshi   \n",
      "2         s3    movie  secrets of deception      josh webber   \n",
      "3         s4    movie    pink: staying true   sonia anderson   \n",
      "4         s5    movie         monster maker     giles foster   \n",
      "...      ...      ...                   ...              ...   \n",
      "8802   s8803    movie                zodiac    david fincher   \n",
      "8803   s8804  tv show           zombie dumb              NaN   \n",
      "8804   s8805    movie            zombieland  ruben fleischer   \n",
      "8805   s8806    movie                  zoom     peter hewitt   \n",
      "8806   s8807    movie                zubaan      mozez singh   \n",
      "\n",
      "                                                   cast         country  \\\n",
      "0        brendan gleeson, taylor kitsch, gordon pinsent          canada   \n",
      "1      mahesh manjrekar, abhay mahajan, sachin khedekar           india   \n",
      "2     tom sizemore, lorenzo lamas, robert lasardo, r...   united states   \n",
      "3     interviews with: pink, adele, beyoncé, britney...   united states   \n",
      "4     harry dean stanton, kieran o'brien, george cos...  united kingdom   \n",
      "...                                                 ...             ...   \n",
      "8802  mark ruffalo, jake gyllenhaal, robert downey j...   united states   \n",
      "8803                                                NaN             NaN   \n",
      "8804  jesse eisenberg, woody harrelson, emma stone, ...   united states   \n",
      "8805  tim allen, courteney cox, chevy chase, kate ma...   united states   \n",
      "8806  vicky kaushal, sarah-jane dias, raaghav chanan...           india   \n",
      "\n",
      "      date_added  release_year rating  duration  \\\n",
      "0     2021-03-30          2014      G   113 min   \n",
      "1     2021-03-30          2018    13+   110 min   \n",
      "2     2021-03-30          2017      G    74 min   \n",
      "3     2021-03-30          2014      G    69 min   \n",
      "4     2021-03-30          1989      G    45 min   \n",
      "...          ...           ...    ...       ...   \n",
      "8802  2019-11-20          2007      R   158 min   \n",
      "8803  2019-07-01          2018  TV-Y7  2 Season   \n",
      "8804  2019-11-01          2009      R    88 min   \n",
      "8805  2020-01-11          2006     PG    88 min   \n",
      "8806  2019-03-02          2015  TV-14   111 min   \n",
      "\n",
      "                                           listed_in  \\\n",
      "0                                      comedy, drama   \n",
      "1                               drama, international   \n",
      "2                            action, drama, suspense   \n",
      "3                                        documentary   \n",
      "4                                     drama, fantasy   \n",
      "...                                              ...   \n",
      "8802                  cult movies, dramas, thrillers   \n",
      "8803          kids' tv, korean tv shows, tv comedies   \n",
      "8804                         comedies, horror movies   \n",
      "8805              children & family movies, comedies   \n",
      "8806  dramas, international movies, music & musicals   \n",
      "\n",
      "                                            description  score      platform  \\\n",
      "0     a small fishing village must procure a local d...     99  amazon_prime   \n",
      "1     a metro family decides to fight a cyber crimin...     37  amazon_prime   \n",
      "2     after a man discovers his wife is cheating on ...     20  amazon_prime   \n",
      "3     pink breaks the mold once again, bringing her ...     27  amazon_prime   \n",
      "4     teenage matt banting wants to work with a famo...     75  amazon_prime   \n",
      "...                                                 ...    ...           ...   \n",
      "8802  a political cartoonist, a crime reporter and a...     20       netflix   \n",
      "8803  while living alone in a spooky town, a young g...      8       netflix   \n",
      "8804  looking to survive in a world taken over by zo...     55       netflix   \n",
      "8805  dragged from civilian life, a former superhero...      7       netflix   \n",
      "8806  a scrappy but poor boy worms his way into a ty...     44       netflix   \n",
      "\n",
      "           id  duration_int duration_type season  \n",
      "0        ass1           113           min   None  \n",
      "1        ass2           110           min   None  \n",
      "2        ass3            74           min   None  \n",
      "3        ass4            69           min   None  \n",
      "4        ass5            45           min   None  \n",
      "...       ...           ...           ...    ...  \n",
      "8802  ass8803           158           min   None  \n",
      "8803  ass8804             2        Season   None  \n",
      "8804  ass8805            88           min   None  \n",
      "8805  ass8806            88           min   None  \n",
      "8806  ass8807           111           min   None  \n",
      "\n",
      "[22516 rows x 18 columns]\n"
     ]
    }
   ],
   "source": [
    "print(data_df)"
   ]
  },
  {
   "attachments": {},
   "cell_type": "markdown",
   "metadata": {},
   "source": [
    "# Export the dataframe as \"clean_data.csv\""
   ]
  },
  {
   "cell_type": "code",
   "execution_count": 22,
   "metadata": {},
   "outputs": [],
   "source": [
    "data_df.to_csv(r'C:\\Users\\miauchis\\Desktop\\PIs\\PI-Data-Engineering\\ETL_API\\my_project\\clean_data.csv', index=False)"
   ]
  },
  {
   "attachments": {},
   "cell_type": "markdown",
   "metadata": {},
   "source": [
    "# Group the data by 'platform', 'title', and 'score'"
   ]
  },
  {
   "cell_type": "code",
   "execution_count": 23,
   "metadata": {},
   "outputs": [],
   "source": [
    "platform_title_score = data.groupby(['platform', 'title', 'score'], as_index=False).mean(numeric_only=True)"
   ]
  },
  {
   "attachments": {},
   "cell_type": "markdown",
   "metadata": {},
   "source": [
    "# Group the data by 'platform', 'title', and 'rating'"
   ]
  },
  {
   "cell_type": "code",
   "execution_count": 24,
   "metadata": {},
   "outputs": [],
   "source": [
    "platform_title_rating = data.groupby(['platform', 'title', 'rating'], as_index=False).mean(numeric_only=True)"
   ]
  },
  {
   "attachments": {},
   "cell_type": "markdown",
   "metadata": {},
   "source": [
    "# Group the data by 'title', and 'score'"
   ]
  },
  {
   "cell_type": "code",
   "execution_count": 25,
   "metadata": {},
   "outputs": [],
   "source": [
    "title_score = data.groupby(['title', 'score'], as_index=False).mean(numeric_only=True)"
   ]
  },
  {
   "attachments": {},
   "cell_type": "markdown",
   "metadata": {},
   "source": [
    "# Group the data by 'platform', 'title', 'score', and 'season'"
   ]
  },
  {
   "cell_type": "code",
   "execution_count": 26,
   "metadata": {},
   "outputs": [],
   "source": [
    "platform_title_score_season = data.groupby(['platform', 'title', 'rating', 'season'], as_index=False).mean(numeric_only=True)"
   ]
  },
  {
   "attachments": {},
   "cell_type": "markdown",
   "metadata": {},
   "source": [
    "# Group the data by 'type', 'rating', and 'score'"
   ]
  },
  {
   "cell_type": "code",
   "execution_count": 27,
   "metadata": {},
   "outputs": [],
   "source": [
    "type_rating_score = data.groupby(['type', 'rating', 'score'], as_index=False).mean(numeric_only=True)"
   ]
  }
 ],
 "metadata": {
  "kernelspec": {
   "display_name": "Python 3",
   "language": "python",
   "name": "python3"
  },
  "language_info": {
   "codemirror_mode": {
    "name": "ipython",
    "version": 3
   },
   "file_extension": ".py",
   "mimetype": "text/x-python",
   "name": "python",
   "nbconvert_exporter": "python",
   "pygments_lexer": "ipython3",
   "version": "3.10.8 (tags/v3.10.8:aaaf517, Oct 11 2022, 16:50:30) [MSC v.1933 64 bit (AMD64)]"
  },
  "orig_nbformat": 4,
  "vscode": {
   "interpreter": {
    "hash": "ffda8b6017134b5c6128eec6546762e20742105f4bc29c7c0f871edb66bedab5"
   }
  }
 },
 "nbformat": 4,
 "nbformat_minor": 2
}
